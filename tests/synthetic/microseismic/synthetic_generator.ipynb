{
 "cells": [
  {
   "cell_type": "code",
   "execution_count": 1,
   "metadata": {},
   "outputs": [
    {
     "data": {
      "text/html": [
       "<style>.container { width:100% !important; }</style>"
      ],
      "text/plain": [
       "<IPython.core.display.HTML object>"
      ]
     },
     "metadata": {},
     "output_type": "display_data"
    }
   ],
   "source": [
    "%load_ext autoreload\n",
    "%autoreload 2\n",
    "\n",
    "from IPython.core.display import display, HTML\n",
    "display(HTML(\"<style>.container { width:100% !important; }</style>\"))"
   ]
  },
  {
   "cell_type": "code",
   "execution_count": 2,
   "metadata": {},
   "outputs": [],
   "source": [
    "import numpy as np\n",
    "import numba as nb\n",
    "import pandas as pd\n",
    "from numba import jit\n",
    "import matplotlib.pyplot as plt\n",
    "import itertools\n",
    "import os\n",
    "\n",
    "import coherent_summation_interface.microseismic_monitoring as mm"
   ]
  },
  {
   "cell_type": "code",
   "execution_count": 3,
   "metadata": {},
   "outputs": [],
   "source": [
    "def patch_system_construct(area_grid, patch_grid, xyz_min, xyz_max):\n",
    "    '''\n",
    "    Construct patch system on area with coordinates 'xyz_min, xyz_max'\n",
    "    \n",
    "    Parameters\n",
    "    ----------\n",
    "    area_grid : array_like (1 dimensional)\n",
    "        Patches grid on area (nx, ny)\n",
    "    patch_grid : array_like (3_dimensional)\n",
    "        Relatively receivers coordinates in patch\n",
    "    '''\n",
    "    nx, ny = area_grid\n",
    "    x0, y0 = xyz_min[0], xyz_min[1]\n",
    "    x1, y1 = xyz_max[0], xyz_max[1]\n",
    "    dx = (x1 - x0 - np.max(patch_grid[:, 0])) / (nx - 1)\n",
    "    dy = (y1 - y0 - np.max(patch_grid[:, 1])) / (ny - 1)\n",
    "            \n",
    "    recs_coords = np.array([patch_grid + np.array([x0 + dx*i_x, y0 + dy*i_y, 0.0]) for i_x, i_y in itertools.product(range(nx), range(ny))]).reshape((-1, 3))\n",
    "        \n",
    "    return recs_coords\n",
    "\n",
    "def patch_system_generate(xyz_min, xyz_max, area_grid, n_recs_in_line, n_lines, d_recs, d_lines):\n",
    "    patch_grid = np.concatenate((np.dstack(np.meshgrid(np.linspace(0.0, d_recs*(n_recs_in_line-1), n_recs_in_line), \n",
    "                                                       np.linspace(0.0, d_lines*(n_lines-1), n_lines))\n",
    "                                          ),\n",
    "                               np.zeros((n_lines, n_recs_in_line, 1))), axis=-1).reshape((-1, 3))\n",
    "    \n",
    "    return patch_system_construct(area_grid, patch_grid, xyz_min, xyz_max)"
   ]
  },
  {
   "cell_type": "code",
   "execution_count": 4,
   "metadata": {},
   "outputs": [],
   "source": [
    "@jit(nopython=True, parallel=True)\n",
    "def calculate_travel_times_vertical_gradient(v0, dv, xyz, recs):\n",
    "    rev_dv = (1 / dv)\n",
    "    dv_square = dv ** 2\n",
    "    \n",
    "    r_xyz_diff = (recs - xyz)\n",
    "    r_xyz_dist = (r_xyz_diff**2).sum(axis=-1)\n",
    "    v = v0 + dv*xyz[..., -1]\n",
    "    \n",
    "    return rev_dv*np.arccosh(1 + (dv_square * r_xyz_dist) / (2*v*(dv*r_xyz_diff[..., -1] + v)))\n",
    "\n",
    "@jit(nopython=True, parallel=True)\n",
    "def calculate_travel_times_vertical_gradient_for_model(v0, dv, xyz_min, xyz_max, nxyz, recs):\n",
    "    dxyz = (xyz_max - xyz_min) / (nxyz - 1)\n",
    "    \n",
    "    travel_times = np.empty((len(recs), nxyz[2], nxyz[1], nxyz[0]), dtype=np.float32)\n",
    "    \n",
    "    rev_dv = (1.0 / dv)\n",
    "    dv_square = dv ** 2\n",
    "    \n",
    "    for i_z in nb.prange(nxyz[2]):\n",
    "        for i_y in nb.prange(nxyz[1]):\n",
    "            for i_x in nb.prange(nxyz[0]):\n",
    "                i_xyz = np.array([i_x, i_y, i_z])\n",
    "                xyz = xyz_min + dxyz*i_xyz\n",
    "                \n",
    "                r_xyz_diff = (recs - xyz)\n",
    "                r_xyz_dist = (r_xyz_diff**2).sum(axis=-1)\n",
    "                v = v0 + dv*xyz[..., -1]\n",
    "                travel_times[:, i_z, i_y, i_x] = rev_dv*np.arccosh(1 + \n",
    "                    (dv_square * r_xyz_dist) / \n",
    "                    (2 * v * (dv * r_xyz_diff[..., -1] + v))\n",
    "                )\n",
    "\n",
    "    return travel_times\n",
    "\n",
    "def calculate_travel_times_vertical_gradient_by_partitions(v0, dv, xyz_min, xyz_max, nxyz, recs, fid_prefix):\n",
    "    recs_block = 20\n",
    "    recs_len = len(recs)\n",
    "    with open(fid_prefix + '.bin', 'wb') as travel_times_file_binary, open(fid_prefix + '.csv', 'w') as travel_times_file_csv:\n",
    "        for i in range(0, recs_len, recs_block):\n",
    "            curr_block_size = min(recs_block, recs_len - i)\n",
    "            travel_times = calculate_travel_times_vertical_gradient_for_model(v0, dv, xyz_min, xyz_max, nxyz, recs[i:i+curr_block_size, ...]).reshape(curr_block_size, -1)\n",
    "            travel_times_file_binary.write(travel_times.tobytes())\n",
    "            np.savetxt(travel_times_file_csv, travel_times, delimiter=';', fmt='%.4e')"
   ]
  },
  {
   "cell_type": "code",
   "execution_count": 5,
   "metadata": {},
   "outputs": [],
   "source": [
    "@jit(nopython=True, parallel=True)\n",
    "def gaussian_noise(n_recs, ns, ampl=1.0):\n",
    "    return np.random.standard_normal((n_recs, ns)) * ampl\n",
    "\n",
    "def generate_gather_gaussian_noise(n_recs, ns, n_files, fid_prefix, ampl=1.0):\n",
    "    for i_f in range(n_files):\n",
    "        gather = gaussian_noise(n_recs, ns, ampl).astype(np.float32)\n",
    "        gather.tofile(fid_prefix + '_{}.bin'.format(i_f))\n",
    "    return"
   ]
  },
  {
   "cell_type": "code",
   "execution_count": 6,
   "metadata": {},
   "outputs": [],
   "source": [
    "@jit(nopython=True, parallel=True)\n",
    "def ricker_impulse(t, freq, ampl=1.0):\n",
    "    omega = np.pi * freq\n",
    "    omega_t_sqr = (omega * t) ** 2\n",
    "    imp = ampl * (1 - ((omega_t_sqr) * 2)) * np.exp(-omega_t_sqr)\n",
    "    return imp\n",
    "\n",
    "@jit(nopython=True, parallel=True)\n",
    "def add_event_to_gather(gather, travel_times, dt, freq=40.0, ampl=1.0):\n",
    "    ns = gather.shape[-1]\n",
    "    n_recs = len(travel_times)\n",
    "    t_seq = np.linspace(0.0, dt * (ns - 1), ns)\n",
    "        \n",
    "    for i_r in nb.prange(n_recs):\n",
    "        gather[i_r, ...] += ricker_impulse((t_seq - travel_times[i_r, ...]), freq, ampl)\n",
    "        \n",
    "    return gather\n",
    "\n",
    "def add_events(recs, sources, fid_prefix, n_files, dt, v0, dv):\n",
    "    n_sou = len(sources)\n",
    "    n_recs = len(recs)\n",
    "    delta = 0.4\n",
    "    file_gather_step = n_files // n_sou\n",
    "    for i_f, i_sou in zip(range(0, n_files, file_gather_step), range(n_sou)):\n",
    "        gather_filename = fid_prefix + '_{}.bin'.format(i_f)\n",
    "        gather = np.fromfile(gather_filename, dtype=np.float32).reshape((n_recs, -1))\n",
    "        travel_times = calculate_travel_times_vertical_gradient(v0, dv, sources[i_sou], recs)\n",
    "        gather_with_event = add_event_to_gather(gather, travel_times + delta * i_sou, dt, freq=10., ampl=1000.)\n",
    "        gather_with_event.tofile(gather_filename)"
   ]
  },
  {
   "cell_type": "code",
   "execution_count": 7,
   "metadata": {},
   "outputs": [],
   "source": [
    "x0, y0, z0 = -3000.0, -3000.0, 0.0\n",
    "x1, y1, z1 = 3000.0, 3000.0, 4000.0\n",
    "dt = 0.001\n",
    "n_seismograms = 60*24\n",
    "v0 = 1000.0\n",
    "v1 = 4000.0\n",
    "nx = 30\n",
    "ny = 30\n",
    "nz = 30\n",
    "xyz_min = np.array([x0, y0, z0])\n",
    "xyz_max = np.array([x1, y1, z1])\n",
    "dv = (v1 - v0) / (xyz_max[..., -1] - xyz_min[..., -1])\n",
    "trace_time_s = 60\n",
    "ns = int(trace_time_s / dt)\n",
    "\n",
    "gather_prefix_dir = '/mnt/nfs/Data/vershinin/microseismic/gather'\n",
    "if not os.path.exists(gather_prefix_dir):\n",
    "    os.makedirs(gather_prefix_dir)\n",
    "gather_prefix_name = 'gather'\n",
    "gather_prefix = os.path.join(gather_prefix_dir, gather_prefix_name)\n",
    "\n",
    "gather_prefix_patch = '{}_patch'.format(gather_prefix)\n",
    "gather_prefix_rays = '{}_rays'.format(gather_prefix)\n",
    "\n",
    "result_prefix_dir = '/mnt/nfs/Data/vershinin/microseismic/result'\n",
    "if not os.path.exists(result_prefix_dir):\n",
    "    os.makedirs(result_prefix_dir)\n",
    "result_prefix_name = 'result'\n",
    "result_prefix = os.path.join(result_prefix_dir, result_prefix_name)\n",
    "\n",
    "result_prefix_patch = '{}_patch'.format(result_prefix)\n",
    "result_prefix_rays = '{}_rays'.format(result_prefix)\n",
    "\n",
    "detect_function_prefix_name = 'detect_function'\n",
    "detect_function_prefix = os.path.join(result_prefix_dir, detect_function_prefix_name)\n",
    "\n",
    "detect_function_prefix_patch = '{}_patch'.format(detect_function_prefix)\n",
    "detect_function_prefix_rays = '{}_rays'.format(detect_function_prefix)\n",
    "\n",
    "times_table_prefix_dir = '/mnt/nfs/Data/vershinin/microseismic/times_table'\n",
    "if not os.path.exists(times_table_prefix_dir):\n",
    "    os.makedirs(times_table_prefix_dir)\n",
    "times_table_prefix_name = 'times_table'\n",
    "times_table_prefix = os.path.join(times_table_prefix_dir, times_table_prefix_name)\n",
    "\n",
    "times_table_prefix_patch = '{}_patch'.format(times_table_prefix)\n",
    "times_table_prefix_rays = '{}_rays'.format(times_table_prefix)"
   ]
  },
  {
   "cell_type": "markdown",
   "metadata": {},
   "source": [
    "# Observing system generation\n",
    "<a id=\"observing_system\"></a>"
   ]
  },
  {
   "cell_type": "code",
   "execution_count": 8,
   "metadata": {},
   "outputs": [],
   "source": [
    "recs_rays = np.load('recs_rays.npy')"
   ]
  },
  {
   "cell_type": "code",
   "execution_count": 9,
   "metadata": {},
   "outputs": [],
   "source": [
    "np.save('recs_rays', recs_rays)"
   ]
  },
  {
   "cell_type": "code",
   "execution_count": 10,
   "metadata": {},
   "outputs": [],
   "source": [
    "recs_patch = patch_system_generate(xyz_min, xyz_max, np.array([6, 6]), 12, 4, 10., 40.)"
   ]
  },
  {
   "cell_type": "code",
   "execution_count": 11,
   "metadata": {},
   "outputs": [
    {
     "data": {
      "image/png": "[encoded data removed]",
      "text/plain": [
       "<Figure size 432x288 with 1 Axes>"
      ]
     },
     "metadata": {
      "needs_background": "light"
     },
     "output_type": "display_data"
    }
   ],
   "source": [
    "plt.figure()\n",
    "plt.scatter(recs_rays[:, 0], recs_rays[:, 1], cmap=\"Blue\", label=\"Rays system\")\n",
    "plt.scatter(recs_patch[:, 0], recs_patch[:, 1], cmap=\"Orange\", label=\"Patch system\")\n",
    "plt.legend(loc=\"upper right\")\n",
    "plt.ylabel(\"Y dimension, m\")\n",
    "plt.xlabel(\"X dimension, m\")\n",
    "plt.show()"
   ]
  },
  {
   "cell_type": "code",
   "execution_count": 12,
   "metadata": {},
   "outputs": [],
   "source": [
    "np.save('recs_patch', recs_patch)"
   ]
  },
  {
   "cell_type": "markdown",
   "metadata": {},
   "source": [
    "<hr>"
   ]
  },
  {
   "cell_type": "markdown",
   "metadata": {},
   "source": [
    "# Vertical velocity model generate\n",
    "<a id=\"velocity_model\"></a>"
   ]
  },
  {
   "cell_type": "code",
   "execution_count": 17,
   "metadata": {},
   "outputs": [],
   "source": [
    "dx = (x1 - x0) / (nx - 1)\n",
    "dy = (y1 - y0) / (ny - 1)\n",
    "dz = (z1 - z0) / (nz - 1)\n",
    "velocities = np.linspace(np.full((ny, nx), v0), np.full((ny, nx), v1), nz)"
   ]
  },
  {
   "cell_type": "code",
   "execution_count": 19,
   "metadata": {},
   "outputs": [
    {
     "data": {
      "image/png": "[encoded data removed]",
      "text/plain": [
       "<Figure size 720x504 with 2 Axes>"
      ]
     },
     "metadata": {
      "needs_background": "light"
     },
     "output_type": "display_data"
    }
   ],
   "source": [
    "plt.figure(figsize=(10, 7))\n",
    "plt.rcParams['font.size'] = 15\n",
    "extent = np.array([0, nx*ny, xyz_max[-1], xyz_min[-1]])\n",
    "im = plt.imshow(velocities.reshape((nz, -1)), extent=extent, aspect='auto')\n",
    "plt.xlabel('Number of surface points')\n",
    "plt.ylabel('Depth (m)')\n",
    "cax = plt.axes([1, 0.1, 0.075, 0.8])\n",
    "plt.colorbar(mappable=im, cax=cax, label='Velocity (m/s)')\n",
    "plt.show()"
   ]
  },
  {
   "cell_type": "code",
   "execution_count": 19,
   "metadata": {},
   "outputs": [],
   "source": [
    "np.save('velocity', velocities)"
   ]
  },
  {
   "cell_type": "code",
   "execution_count": 20,
   "metadata": {},
   "outputs": [
    {
     "data": {
      "text/plain": [
       "(20, 20, 20)"
      ]
     },
     "execution_count": 20,
     "metadata": {},
     "output_type": "execute_result"
    }
   ],
   "source": [
    "velocities.shape"
   ]
  },
  {
   "cell_type": "markdown",
   "metadata": {},
   "source": [
    "<hr>"
   ]
  },
  {
   "cell_type": "markdown",
   "metadata": {},
   "source": [
    "# Travel times generate\n",
    "<a id=\"travel_times\"></a>"
   ]
  },
  {
   "cell_type": "code",
   "execution_count": 8,
   "metadata": {},
   "outputs": [],
   "source": [
    "local_xyz_min = np.array([-1500., -1500., 0.]);\n",
    "local_xyz_max = np.array([1500., 1500., 3500.])\n",
    "\n",
    "recs_rays = np.load('recs_rays.npy')\n",
    "recs_patch = np.load('recs_patch.npy')\n",
    "recs = np.concatenate((recs_rays, recs_patch), axis=0)"
   ]
  },
  {
   "cell_type": "code",
   "execution_count": 9,
   "metadata": {},
   "outputs": [],
   "source": [
    "calculate_travel_times_vertical_gradient_by_partitions(v0, dv, local_xyz_min, local_xyz_max, np.array([nx, ny, nz]), recs, times_table_prefix)"
   ]
  },
  {
   "cell_type": "code",
   "execution_count": 15,
   "metadata": {},
   "outputs": [],
   "source": [
    "# Only for rays observate system\n",
    "\n",
    "# calculate_travel_times_vertical_gradient_by_partitions(v0, dv, local_xyz_min, local_xyz_max, np.array([nx, ny, nz]), recs_rays, times_table_prefix_rays)"
   ]
  },
  {
   "cell_type": "code",
   "execution_count": 16,
   "metadata": {},
   "outputs": [],
   "source": [
    "# Only for patch observate system\n",
    "\n",
    "# calculate_travel_times_vertical_gradient_by_partitions(v0, dv, local_xyz_min, local_xyz_max, np.array([nx, ny, nz]), recs_patch, times_table_prefix_patch)"
   ]
  },
  {
   "cell_type": "markdown",
   "metadata": {},
   "source": [
    "# Synthetic seismograms noise generate\n",
    "<a id=\"synthetic_seismograms_noise\"></a>"
   ]
  },
  {
   "cell_type": "code",
   "execution_count": 17,
   "metadata": {},
   "outputs": [],
   "source": [
    "recs_rays = np.load('recs_rays.npy')\n",
    "recs_patch = np.load('recs_patch.npy')\n",
    "recs = np.concatenate((recs_rays, recs_patch), axis=0)"
   ]
  },
  {
   "cell_type": "code",
   "execution_count": 18,
   "metadata": {},
   "outputs": [],
   "source": [
    "n_recs = len(recs)\n",
    "generate_gather_gaussian_noise(n_recs, ns, n_seismograms, gather_prefix)"
   ]
  },
  {
   "cell_type": "code",
   "execution_count": null,
   "metadata": {},
   "outputs": [],
   "source": [
    "# Only for patch observate system\n",
    "\n",
    "# n_recs = len(recs_patch)\n",
    "# generate_gather_gaussian_noise(n_recs, ns, n_seismograms, gather_prefix_patch)"
   ]
  },
  {
   "cell_type": "code",
   "execution_count": null,
   "metadata": {},
   "outputs": [],
   "source": [
    "# Only for rays observate system\n",
    "\n",
    "# n_recs = len(recs_rays)\n",
    "# generate_gather_gaussian_noise(n_recs, ns, n_seismograms, gather_prefix_rays)"
   ]
  },
  {
   "cell_type": "markdown",
   "metadata": {},
   "source": [
    "<hr>"
   ]
  },
  {
   "cell_type": "markdown",
   "metadata": {},
   "source": [
    "# Synthetic seismograms events generate\n",
    "<a id=\"synthetic_seismograms_events\"></a>"
   ]
  },
  {
   "cell_type": "code",
   "execution_count": 19,
   "metadata": {},
   "outputs": [],
   "source": [
    "recs_rays = np.load('recs_rays.npy')\n",
    "recs_patch = np.load('recs_patch.npy')\n",
    "recs = np.concatenate((recs_rays, recs_patch), axis=0)"
   ]
  },
  {
   "cell_type": "code",
   "execution_count": 20,
   "metadata": {},
   "outputs": [],
   "source": [
    "events_coords_df = pd.read_excel('eventsSergey2_true.xlsx')\n",
    "events_coords = events_coords_df.values[..., 1:] * 1000"
   ]
  },
  {
   "cell_type": "code",
   "execution_count": 21,
   "metadata": {},
   "outputs": [],
   "source": [
    "add_events(recs, events_coords, gather_prefix, n_seismograms, dt, v0, dv)"
   ]
  },
  {
   "cell_type": "code",
   "execution_count": null,
   "metadata": {},
   "outputs": [],
   "source": [
    "# Only for patch observate system\n",
    "\n",
    "# add_events(recs_patch, events_coords, gather_prefix_patch, n_seismograms, dt, v0, dv, delta)"
   ]
  },
  {
   "cell_type": "code",
   "execution_count": null,
   "metadata": {},
   "outputs": [],
   "source": [
    "# Only for rays observate system\n",
    "\n",
    "# add_events(recs_rays, events_coords, gather_prefix_rays, n_seismograms, dt, v0, dv, delta)"
   ]
  },
  {
   "cell_type": "markdown",
   "metadata": {},
   "source": [
    "<hr>"
   ]
  },
  {
   "cell_type": "markdown",
   "metadata": {},
   "source": [
    "# Test coherent summation\n",
    "<a id=\"test_coherent_summation\"></a>"
   ]
  },
  {
   "cell_type": "code",
   "execution_count": 8,
   "metadata": {},
   "outputs": [],
   "source": [
    "def get_processing_result_detect_function(detect_function_prefix):\n",
    "    \n",
    "    def processing_result_detect_function(result, number):\n",
    "        n_points, n_samples = result.shape\n",
    "        \n",
    "        detect_function = np.amax(result, axis=0)\n",
    "\n",
    "#         detect_function = np.empty((n_samples), dtype=np.dtype([('i_p', '<i4'), ('event', 'f')]))\n",
    "#         detect_function[:]['i_p'] = np.array([np.argmax(result[:, i_s]) for i_s in range(n_samples)])\n",
    "#         detect_function[:]['event'] = np.array([np.max(result[:, i_s]) for i_s in range(n_samples)])\n",
    "\n",
    "        np.save('{}_{}'.format(detect_function_prefix, 1250 + number), detect_function)\n",
    "        \n",
    "    return processing_result_detect_function"
   ]
  },
  {
   "cell_type": "code",
   "execution_count": 9,
   "metadata": {},
   "outputs": [],
   "source": [
    "recs_rays = np.load('recs_rays.npy')\n",
    "recs_patch = np.load('recs_patch.npy')\n",
    "recs = np.concatenate((recs_rays, recs_patch), axis=0)"
   ]
  },
  {
   "cell_type": "code",
   "execution_count": 10,
   "metadata": {},
   "outputs": [
    {
     "name": "stdout",
     "output_type": "stream",
     "text": [
      "353.3729\n",
      "334.9185\n",
      "339.51266\n",
      "333.7874\n",
      "334.93744\n",
      "339.02017\n",
      "337.44128\n",
      "342.5333\n",
      "349.05072\n",
      "342.4783\n",
      "331.08463\n",
      "2151391.2\n",
      "340.52377\n",
      "346.31223\n",
      "347.94135\n",
      "339.0206\n",
      "340.37253\n",
      "335.80173\n",
      "410.01965\n",
      "343.12378\n",
      "354.79224\n",
      "329.86688\n",
      "344.21054\n",
      "354.11945\n",
      "2705172.2\n",
      "345.7425\n",
      "346.31848\n",
      "334.93872\n",
      "329.78052\n",
      "363.94867\n",
      "361.07733\n",
      "334.60635\n",
      "338.4173\n",
      "346.86108\n",
      "344.12906\n",
      "343.44272\n",
      "349.47995\n",
      "2269980.2\n",
      "343.98737\n",
      "352.2922\n",
      "339.82288\n",
      "356.17444\n",
      "348.5973\n",
      "333.62012\n",
      "342.44116\n",
      "338.921\n",
      "358.81464\n",
      "330.3212\n",
      "334.67636\n",
      "338.28027\n",
      "1977405.5\n",
      "341.7623\n",
      "329.80173\n",
      "357.4094\n",
      "342.05057\n",
      "341.69458\n",
      "338.00308\n",
      "328.85056\n",
      "345.79456\n",
      "339.73767\n",
      "342.5775\n",
      "335.82565\n",
      "336.373\n",
      "2063632.4\n",
      "342.82938\n",
      "323.60617\n",
      "343.1048\n",
      "348.1353\n",
      "342.67633\n",
      "351.00253\n",
      "343.12067\n",
      "352.24597\n",
      "336.22513\n",
      "351.3059\n",
      "334.43988\n",
      "341.66977\n",
      "2699292.0\n",
      "328.95795\n",
      "349.8575\n",
      "330.4219\n",
      "369.78143\n",
      "343.33005\n",
      "362.23648\n",
      "379.35556\n",
      "334.18774\n",
      "336.48862\n",
      "351.59323\n",
      "365.70218\n",
      "349.52448\n",
      "361.26843\n",
      "338.6706\n",
      "337.24258\n",
      "341.707\n",
      "335.2894\n",
      "350.93036\n",
      "340.4668\n",
      "331.85535\n",
      "342.93878\n",
      "330.0157\n",
      "341.4952\n",
      "329.5452\n",
      "336.5291\n",
      "345.19815\n",
      "365.593\n",
      "341.15088\n",
      "332.44604\n",
      "337.89954\n",
      "353.23178\n",
      "340.57706\n",
      "348.65024\n",
      "354.83862\n",
      "346.05838\n",
      "371.5547\n",
      "339.73462\n",
      "364.70044\n",
      "342.6818\n",
      "329.9535\n",
      "332.34088\n",
      "331.67926\n",
      "354.435\n",
      "347.23035\n",
      "344.6235\n",
      "350.44934\n",
      "360.16837\n",
      "342.81082\n",
      "345.94955\n",
      "363.2038\n",
      "353.43933\n",
      "337.88107\n",
      "361.78522\n",
      "368.63995\n",
      "346.95163\n",
      "335.80362\n",
      "336.1886\n",
      "346.79453\n",
      "351.94604\n",
      "351.39832\n",
      "363.26913\n",
      "360.86237\n",
      "337.40582\n",
      "347.94522\n",
      "351.87936\n",
      "342.1115\n",
      "351.64752\n",
      "335.06882\n",
      "345.59082\n",
      "349.3219\n",
      "338.33234\n",
      "339.91327\n",
      "353.66168\n",
      "354.67252\n",
      "334.70108\n",
      "344.60947\n",
      "341.82294\n",
      "363.0816\n",
      "333.76727\n",
      "338.61896\n",
      "339.8417\n",
      "334.1873\n",
      "337.07123\n",
      "356.3508\n",
      "354.89166\n",
      "334.77176\n",
      "355.6798\n",
      "355.12027\n",
      "331.0693\n",
      "348.96396\n",
      "335.93872\n",
      "341.9099\n",
      "364.73853\n",
      "361.50253\n",
      "349.1105\n",
      "338.01083\n",
      "348.7378\n",
      "349.3034\n",
      "358.37552\n",
      "330.08923\n",
      "351.16315\n",
      "351.1945\n",
      "345.06024\n",
      "341.00385\n",
      "334.70847\n",
      "336.48993\n",
      "331.87076\n",
      "338.76538\n",
      "343.41388\n",
      "354.98392\n",
      "347.58228\n",
      "347.62866\n",
      "346.89734\n"
     ]
    }
   ],
   "source": [
    "file_names = np.array(['{}_{}.bin'.format(gather_prefix, i) for i in range(1250, n_seismograms)])\n",
    "n_recs = len(recs)\n",
    "travel_timetable = np.fromfile('{}.bin'.format(times_table_prefix), dtype=np.float32).reshape((n_recs, -1)).T\n",
    "mm.emission_tomography_on_files(file_names, \n",
    "                                travel_timetable, \n",
    "                                dt, \n",
    "                                get_processing_result_detect_function(detect_function_prefix))"
   ]
  },
  {
   "cell_type": "code",
   "execution_count": 8,
   "metadata": {
    "scrolled": true
   },
   "outputs": [
    {
     "name": "stdout",
     "output_type": "stream",
     "text": [
      "Gather remainder sample: 3984\n",
      "Gather dtype: float64\n",
      "Table times dtype: float32\n",
      "Sleep before summation\n",
      "After sleep\n"
     ]
    },
    {
     "ename": "TypeError",
     "evalue": "emission_tomography(): incompatible function arguments. The following argument types are supported:\n    1. (self: CoherentSummationModule.CoherentSummation, gather: numpy.ndarray[numpy.float64], sources_receivers_times: numpy.ndarray[numpy.float64], dt: float, receivers_block_size: int = 20, samples_block_size: int = 1000) -> numpy.ndarray[numpy.float64]\n    2. (self: CoherentSummationModule.CoherentSummation, gather: numpy.ndarray[numpy.float64], sources_receivers_times: numpy.ndarray[numpy.float32], dt: float, receivers_block_size: int = 20, samples_block_size: int = 1000) -> numpy.ndarray[numpy.float64]\n    3. (self: CoherentSummationModule.CoherentSummation, gather: numpy.ndarray[numpy.float32], sources_receivers_times: numpy.ndarray[numpy.float64], dt: float, receivers_block_size: int = 20, samples_block_size: int = 1000) -> numpy.ndarray[numpy.float32]\n    4. (self: CoherentSummationModule.CoherentSummation, gather: numpy.ndarray[numpy.float32], sources_receivers_times: numpy.ndarray[numpy.float32], dt: float, receivers_block_size: int = 20, samples_block_size: int = 1000) -> numpy.ndarray[numpy.float32]\n    5. (self: CoherentSummationModule.CoherentSummation, gather: numpy.ndarray[numpy.float64], receivers_coords: numpy.ndarray[numpy.float64], sources_coords: numpy.ndarray[numpy.float64], sources_receivers_times: numpy.ndarray[numpy.float64], dt: float, tensor_matrix: numpy.ndarray[numpy.float64], receivers_block_size: int = 20, samples_block_size: int = 1000) -> numpy.ndarray[numpy.float64]\n    6. (self: CoherentSummationModule.CoherentSummation, gather: numpy.ndarray[numpy.float64], receivers_coords: numpy.ndarray[numpy.float64], sources_coords: numpy.ndarray[numpy.float64], sources_receivers_times: numpy.ndarray[numpy.float32], dt: float, tensor_matrix: numpy.ndarray[numpy.float64], receivers_block_size: int = 20, samples_block_size: int = 1000) -> numpy.ndarray[numpy.float64]\n    7. (self: CoherentSummationModule.CoherentSummation, gather: numpy.ndarray[numpy.float32], receivers_coords: numpy.ndarray[numpy.float32], sources_coords: numpy.ndarray[numpy.float32], sources_receivers_times: numpy.ndarray[numpy.float64], dt: float, tensor_matrix: numpy.ndarray[numpy.float32], receivers_block_size: int = 20, samples_block_size: int = 1000) -> numpy.ndarray[numpy.float32]\n    8. (self: CoherentSummationModule.CoherentSummation, gather: numpy.ndarray[numpy.float32], receivers_coords: numpy.ndarray[numpy.float32], sources_coords: numpy.ndarray[numpy.float32], sources_receivers_times: numpy.ndarray[numpy.float32], dt: float, tensor_matrix: numpy.ndarray[numpy.float32], receivers_block_size: int = 20, samples_block_size: int = 1000) -> numpy.ndarray[numpy.float32]\n\nInvoked with: <CoherentSummationModule.CoherentSummation object at 0x000001C02AB7D4B0>, array([[ 0.98650857, -0.15255424,  0.16196736, ..., -0.99900423,\n         0.56538951,  1.20719433],\n       [-0.61245577,  0.92081387,  0.72942296, ...,  0.04865118,\n        -0.88743355, -0.56399189],\n       [-0.47831362, -0.50858211, -1.58267205, ...,  0.17752398,\n         1.73350085, -0.45515105],\n       ...,\n       [ 0.23516727, -0.30614187,  0.7076236 , ..., -1.68085377,\n         0.80249546,  0.33794362],\n       [ 0.30104248,  1.09259813,  0.31386043, ...,  2.64398999,\n         0.18255492,  1.11366682],\n       [-0.38561232, -0.68443151, -0.48786223, ..., -0.02120351,\n         0.73127108, -0.49153412]]), array([[1.9443911, 1.9388632, 1.9333466, ..., 4.2724752, 4.2752075,\n        4.27794  ],\n       [2.0330155, 2.0273368, 2.021666 , ..., 4.229411 , 4.232134 ,\n        4.2348576],\n       [2.1235592, 2.117783 , 2.1120117, ..., 4.1865273, 4.1892366,\n        4.191947 ],\n       ...,\n       [3.0234728, 3.0216613, 3.0198514, ..., 2.0141904, 2.0159185,\n        2.0176537],\n       [3.05231  , 3.050471 , 3.0486336, ..., 1.9878731, 1.9894845,\n        1.9911035],\n       [3.0815575, 3.0796938, 3.0778315, ..., 1.9634677, 1.9649543,\n        1.9664489]], dtype=float32), 0.001",
     "output_type": "error",
     "traceback": [
      "\u001b[1;31m---------------------------------------------------------------------------\u001b[0m",
      "\u001b[1;31mTypeError\u001b[0m                                 Traceback (most recent call last)",
      "\u001b[1;32m<ipython-input-8-c0770df06a1d>\u001b[0m in \u001b[0;36m<module>\u001b[1;34m\u001b[0m\n\u001b[0;32m      6\u001b[0m \u001b[0mpatch_travel_timetable\u001b[0m \u001b[1;33m=\u001b[0m \u001b[0mnp\u001b[0m\u001b[1;33m.\u001b[0m\u001b[0mfromfile\u001b[0m\u001b[1;33m(\u001b[0m\u001b[1;34m'travel_times_patch.bin'\u001b[0m\u001b[1;33m,\u001b[0m \u001b[0mdtype\u001b[0m\u001b[1;33m=\u001b[0m\u001b[0mnp\u001b[0m\u001b[1;33m.\u001b[0m\u001b[0mfloat32\u001b[0m\u001b[1;33m)\u001b[0m\u001b[1;33m.\u001b[0m\u001b[0mreshape\u001b[0m\u001b[1;33m(\u001b[0m\u001b[1;33m(\u001b[0m\u001b[0mn_recs\u001b[0m\u001b[1;33m,\u001b[0m \u001b[1;33m-\u001b[0m\u001b[1;36m1\u001b[0m\u001b[1;33m)\u001b[0m\u001b[1;33m)\u001b[0m\u001b[1;33m.\u001b[0m\u001b[0mastype\u001b[0m\u001b[1;33m(\u001b[0m\u001b[0mdtype\u001b[0m\u001b[1;33m=\u001b[0m\u001b[0mnp\u001b[0m\u001b[1;33m.\u001b[0m\u001b[0mfloat32\u001b[0m\u001b[1;33m)\u001b[0m\u001b[1;33m.\u001b[0m\u001b[0mT\u001b[0m\u001b[1;33m\u001b[0m\u001b[1;33m\u001b[0m\u001b[0m\n\u001b[0;32m      7\u001b[0m \u001b[1;33m\u001b[0m\u001b[0m\n\u001b[1;32m----> 8\u001b[1;33m \u001b[0mmm\u001b[0m\u001b[1;33m.\u001b[0m\u001b[0memission_tomography_on_files\u001b[0m\u001b[1;33m(\u001b[0m\u001b[0mpatch_file_names\u001b[0m\u001b[1;33m,\u001b[0m \u001b[0mpatch_travel_timetable\u001b[0m\u001b[1;33m,\u001b[0m \u001b[0mdt\u001b[0m\u001b[1;33m,\u001b[0m \u001b[0mget_processing_result_detect_function\u001b[0m\u001b[1;33m(\u001b[0m\u001b[1;34m'patch'\u001b[0m\u001b[1;33m)\u001b[0m\u001b[1;33m)\u001b[0m\u001b[1;33m\u001b[0m\u001b[1;33m\u001b[0m\u001b[0m\n\u001b[0m",
      "\u001b[1;32mc:\\program files (x86)\\microsoft visual studio\\shared\\python37_64\\lib\\site-packages\\coherentsummation-1.0-py3.7-win-amd64.egg\\coherent_summation_interface\\microseismic_monitoring.py\u001b[0m in \u001b[0;36memission_tomography_on_files\u001b[1;34m(file_names, table_times, dt, result_processing_function, concurrency, remainder_gather)\u001b[0m\n\u001b[0;32m     76\u001b[0m             \u001b[0mprint\u001b[0m\u001b[1;33m(\u001b[0m\u001b[1;34m\"After sleep\"\u001b[0m\u001b[1;33m)\u001b[0m\u001b[1;33m\u001b[0m\u001b[1;33m\u001b[0m\u001b[0m\n\u001b[0;32m     77\u001b[0m \u001b[1;33m\u001b[0m\u001b[0m\n\u001b[1;32m---> 78\u001b[1;33m             \u001b[0mresult\u001b[0m \u001b[1;33m=\u001b[0m \u001b[0mcoh_sum\u001b[0m\u001b[1;33m.\u001b[0m\u001b[0memission_tomography\u001b[0m\u001b[1;33m(\u001b[0m\u001b[0mgather_for_processing\u001b[0m\u001b[1;33m,\u001b[0m \u001b[0mtable_times\u001b[0m\u001b[1;33m,\u001b[0m \u001b[0mdt\u001b[0m\u001b[1;33m)\u001b[0m\u001b[1;33m\u001b[0m\u001b[1;33m\u001b[0m\u001b[0m\n\u001b[0m\u001b[0;32m     79\u001b[0m \u001b[1;33m\u001b[0m\u001b[0m\n\u001b[0;32m     80\u001b[0m             \u001b[1;31m# result = np.zeros((len(table_times), gather_for_processing.shape[-1]), dtype=np.float64)\u001b[0m\u001b[1;33m\u001b[0m\u001b[1;33m\u001b[0m\u001b[1;33m\u001b[0m\u001b[0m\n",
      "\u001b[1;31mTypeError\u001b[0m: emission_tomography(): incompatible function arguments. The following argument types are supported:\n    1. (self: CoherentSummationModule.CoherentSummation, gather: numpy.ndarray[numpy.float64], sources_receivers_times: numpy.ndarray[numpy.float64], dt: float, receivers_block_size: int = 20, samples_block_size: int = 1000) -> numpy.ndarray[numpy.float64]\n    2. (self: CoherentSummationModule.CoherentSummation, gather: numpy.ndarray[numpy.float64], sources_receivers_times: numpy.ndarray[numpy.float32], dt: float, receivers_block_size: int = 20, samples_block_size: int = 1000) -> numpy.ndarray[numpy.float64]\n    3. (self: CoherentSummationModule.CoherentSummation, gather: numpy.ndarray[numpy.float32], sources_receivers_times: numpy.ndarray[numpy.float64], dt: float, receivers_block_size: int = 20, samples_block_size: int = 1000) -> numpy.ndarray[numpy.float32]\n    4. (self: CoherentSummationModule.CoherentSummation, gather: numpy.ndarray[numpy.float32], sources_receivers_times: numpy.ndarray[numpy.float32], dt: float, receivers_block_size: int = 20, samples_block_size: int = 1000) -> numpy.ndarray[numpy.float32]\n    5. (self: CoherentSummationModule.CoherentSummation, gather: numpy.ndarray[numpy.float64], receivers_coords: numpy.ndarray[numpy.float64], sources_coords: numpy.ndarray[numpy.float64], sources_receivers_times: numpy.ndarray[numpy.float64], dt: float, tensor_matrix: numpy.ndarray[numpy.float64], receivers_block_size: int = 20, samples_block_size: int = 1000) -> numpy.ndarray[numpy.float64]\n    6. (self: CoherentSummationModule.CoherentSummation, gather: numpy.ndarray[numpy.float64], receivers_coords: numpy.ndarray[numpy.float64], sources_coords: numpy.ndarray[numpy.float64], sources_receivers_times: numpy.ndarray[numpy.float32], dt: float, tensor_matrix: numpy.ndarray[numpy.float64], receivers_block_size: int = 20, samples_block_size: int = 1000) -> numpy.ndarray[numpy.float64]\n    7. (self: CoherentSummationModule.CoherentSummation, gather: numpy.ndarray[numpy.float32], receivers_coords: numpy.ndarray[numpy.float32], sources_coords: numpy.ndarray[numpy.float32], sources_receivers_times: numpy.ndarray[numpy.float64], dt: float, tensor_matrix: numpy.ndarray[numpy.float32], receivers_block_size: int = 20, samples_block_size: int = 1000) -> numpy.ndarray[numpy.float32]\n    8. (self: CoherentSummationModule.CoherentSummation, gather: numpy.ndarray[numpy.float32], receivers_coords: numpy.ndarray[numpy.float32], sources_coords: numpy.ndarray[numpy.float32], sources_receivers_times: numpy.ndarray[numpy.float32], dt: float, tensor_matrix: numpy.ndarray[numpy.float32], receivers_block_size: int = 20, samples_block_size: int = 1000) -> numpy.ndarray[numpy.float32]\n\nInvoked with: <CoherentSummationModule.CoherentSummation object at 0x000001C02AB7D4B0>, array([[ 0.98650857, -0.15255424,  0.16196736, ..., -0.99900423,\n         0.56538951,  1.20719433],\n       [-0.61245577,  0.92081387,  0.72942296, ...,  0.04865118,\n        -0.88743355, -0.56399189],\n       [-0.47831362, -0.50858211, -1.58267205, ...,  0.17752398,\n         1.73350085, -0.45515105],\n       ...,\n       [ 0.23516727, -0.30614187,  0.7076236 , ..., -1.68085377,\n         0.80249546,  0.33794362],\n       [ 0.30104248,  1.09259813,  0.31386043, ...,  2.64398999,\n         0.18255492,  1.11366682],\n       [-0.38561232, -0.68443151, -0.48786223, ..., -0.02120351,\n         0.73127108, -0.49153412]]), array([[1.9443911, 1.9388632, 1.9333466, ..., 4.2724752, 4.2752075,\n        4.27794  ],\n       [2.0330155, 2.0273368, 2.021666 , ..., 4.229411 , 4.232134 ,\n        4.2348576],\n       [2.1235592, 2.117783 , 2.1120117, ..., 4.1865273, 4.1892366,\n        4.191947 ],\n       ...,\n       [3.0234728, 3.0216613, 3.0198514, ..., 2.0141904, 2.0159185,\n        2.0176537],\n       [3.05231  , 3.050471 , 3.0486336, ..., 1.9878731, 1.9894845,\n        1.9911035],\n       [3.0815575, 3.0796938, 3.0778315, ..., 1.9634677, 1.9649543,\n        1.9664489]], dtype=float32), 0.001"
     ]
    }
   ],
   "source": [
    "# Patch observing system\n",
    "\n",
    "# patch_file_names = np.array(['{}_{}.bin'.format(gather_prefix_patch, i) for i in range(n_seismograms)])\n",
    "# n_recs = len(recs_patch)\n",
    "# patch_travel_timetable = np.fromfile('{}.bin'.format(times_table_prefix_patch), dtype=np.float32).reshape((n_recs, -1)).T\n",
    "# mm.emission_tomography_on_files(patch_file_names, \n",
    "#                                 patch_travel_timetable, \n",
    "#                                 dt, \n",
    "#                                 get_processing_result_detect_function(detect_function_prefix_patch))"
   ]
  },
  {
   "cell_type": "code",
   "execution_count": 9,
   "metadata": {},
   "outputs": [
    {
     "name": "stdout",
     "output_type": "stream",
     "text": [
      "Gather remainder sample: 3705\n",
      "1172418.9534373542\n",
      "209.75152158232677\n",
      "1252346.0214121877\n",
      "233.740227217331\n",
      "1279911.1676327516\n",
      "222.97279007707823\n",
      "1188517.3162778015\n",
      "214.99370715997023\n",
      "1194022.1040560976\n",
      "224.66653659665286\n",
      "213.32170315900234\n",
      "221.06651178328784\n"
     ]
    }
   ],
   "source": [
    "# Rays observing system\n",
    "\n",
    "# rays_file_names = np.array(['{}_{}.bin'.format(gather_prefix_rays, i) for i in range(n_seismograms)])\n",
    "# n_recs = len(recs_rays)\n",
    "# rays_travel_timetable = np.fromfile('{}.bin'.format(times_table_prefix_rays), dtype=np.float32).reshape((n_recs, -1)).T\n",
    "# mm.emission_tomography_on_files(rays_file_names, \n",
    "#                                 rays_travel_timetable, \n",
    "#                                 dt, \n",
    "#                                 get_processing_result_detect_function(detect_function_prefix_rays))"
   ]
  },
  {
   "cell_type": "markdown",
   "metadata": {},
   "source": [
    "<hr>"
   ]
  },
  {
   "cell_type": "code",
   "execution_count": 11,
   "metadata": {},
   "outputs": [],
   "source": [
    "gather = np.fromfile('{}_0.bin'.format(gather_prefix), dtype=np.float32).reshape((-1, ns))"
   ]
  },
  {
   "cell_type": "code",
   "execution_count": 12,
   "metadata": {},
   "outputs": [
    {
     "data": {
      "image/png": "[encoded data removed]",
      "text/plain": [
       "<Figure size 720x504 with 2 Axes>"
      ]
     },
     "metadata": {
      "needs_background": "light"
     },
     "output_type": "display_data"
    }
   ],
   "source": [
    "plt.figure(figsize=(10, 7))\n",
    "gather_show_len = 6000\n",
    "extent = np.array([0, len(recs), dt*gather_show_len, 0])\n",
    "plt.imshow(gather[:, 0:gather_show_len].T, aspect='auto', cmap=plt.cm.Greys, extent=extent)\n",
    "plt.xlabel('Number of receivers')\n",
    "plt.ylabel('Time, s')\n",
    "cax = plt.axes([1, 0.1, 0.075, 0.8])\n",
    "plt.colorbar(cax=cax, label='Amplitude')\n",
    "plt.show()"
   ]
  },
  {
   "cell_type": "code",
   "execution_count": null,
   "metadata": {},
   "outputs": [],
   "source": [
    "gather_patch = np.fromfile('{}_0.bin'.format(gather_prefix_patch), dtype=np.float64).reshape((-1, ns))"
   ]
  },
  {
   "cell_type": "code",
   "execution_count": null,
   "metadata": {},
   "outputs": [],
   "source": [
    "plt.figure(figsize=(10, 7))\n",
    "gather_show_len = 10000\n",
    "extent = np.array([0, len(recs_patch), dt*gather_show_len, 0])\n",
    "plt.imshow(gather_patch[:, 0:gather_show_len].T, aspect='auto', cmap=plt.cm.Greys, extent=extent)\n",
    "plt.xlabel('Number of receivers')\n",
    "plt.ylabel('Time, s')\n",
    "cax = plt.axes([1, 0.1, 0.075, 0.8])\n",
    "plt.colorbar(cax=cax, label='Amplitude')\n",
    "plt.show()"
   ]
  },
  {
   "cell_type": "code",
   "execution_count": null,
   "metadata": {},
   "outputs": [],
   "source": [
    "gather_rays = np.fromfile('{}_0.bin'.format(gather_prefix_rays), dtype=np.float64).reshape((-1, ns))"
   ]
  },
  {
   "cell_type": "code",
   "execution_count": null,
   "metadata": {},
   "outputs": [],
   "source": [
    "plt.figure(figsize=(10, 7))\n",
    "gather_show_len = 10000\n",
    "extent = np.array([0, len(recs_rays), dt*gather_show_len, 0])\n",
    "plt.imshow(gather_rays[:, 0:gather_show_len].T, aspect='auto', cmap=plt.cm.Greys, extent=extent)\n",
    "plt.xlabel('Number of receivers')\n",
    "plt.ylabel('Time, s')\n",
    "cax = plt.axes([1, 0.1, 0.075, 0.8])\n",
    "plt.colorbar(cax=cax, label='Amplitude')\n",
    "plt.show()"
   ]
  },
  {
   "cell_type": "code",
   "execution_count": 13,
   "metadata": {},
   "outputs": [
    {
     "data": {
      "text/plain": [
       "(86391652,)"
      ]
     },
     "execution_count": 13,
     "metadata": {},
     "output_type": "execute_result"
    }
   ],
   "source": [
    "detect_func = np.array([], dtype=np.float32)\n",
    "for i in range(n_seismograms):\n",
    "    detect_func = np.concatenate((detect_func, np.load('{}_{}.npy'.format(detect_function_prefix, i))))\n",
    "detect_func.shape"
   ]
  },
  {
   "cell_type": "code",
   "execution_count": 14,
   "metadata": {},
   "outputs": [
    {
     "data": {
      "image/png": "[encoded data removed]",
      "text/plain": [
       "<Figure size 720x504 with 1 Axes>"
      ]
     },
     "metadata": {
      "needs_background": "light"
     },
     "output_type": "display_data"
    }
   ],
   "source": [
    "plt.figure(figsize=(10, 7))\n",
    "detect_func_for_show = detect_func[:]\n",
    "detect_func_len = len(detect_func_for_show)\n",
    "times = np.linspace(0.0, detect_func_len*dt, detect_func_len)\n",
    "plt.plot(times, detect_func_for_show)\n",
    "plt.xlabel('Time, s')\n",
    "plt.ylabel('Amplitude')\n",
    "plt.show()"
   ]
  },
  {
   "cell_type": "code",
   "execution_count": null,
   "metadata": {},
   "outputs": [],
   "source": [
    "detect_func_patch = np.array([], dtype=np.float64)\n",
    "for i in range(n_seismograms):\n",
    "    detect_func_patch = np.concatenate((detect_func_patch, np.load('{}_{}.npy'.format(detect_function_prefix_patch, i))))\n",
    "detect_func_patch.shape"
   ]
  },
  {
   "cell_type": "code",
   "execution_count": null,
   "metadata": {},
   "outputs": [],
   "source": [
    "plt.figure(figsize=(10, 7))\n",
    "detect_func_patch_for_show = detect_func_patch[:200000]\n",
    "detect_func_len = len(detect_func_patch_for_show)\n",
    "times = np.linspace(0.0, detect_func_len*dt, detect_func_len)\n",
    "plt.plot(times, detect_func_patch_for_show)\n",
    "plt.xlabel('Time, s')\n",
    "plt.ylabel('Amplitude')\n",
    "plt.show()"
   ]
  },
  {
   "cell_type": "code",
   "execution_count": 30,
   "metadata": {},
   "outputs": [
    {
     "ename": "FileNotFoundError",
     "evalue": "[Errno 2] No such file or directory: '/mnt/nfs/Data/vershinin/microseismic/result/detect_function_rays_0.npy'",
     "output_type": "error",
     "traceback": [
      "\u001b[0;31m---------------------------------------------------------------------------\u001b[0m",
      "\u001b[0;31mFileNotFoundError\u001b[0m                         Traceback (most recent call last)",
      "\u001b[0;32m<ipython-input-30-e484a740f7dc>\u001b[0m in \u001b[0;36m<module>\u001b[0;34m\u001b[0m\n\u001b[1;32m      1\u001b[0m \u001b[0mdetect_func_rays\u001b[0m \u001b[0;34m=\u001b[0m \u001b[0mnp\u001b[0m\u001b[0;34m.\u001b[0m\u001b[0marray\u001b[0m\u001b[0;34m(\u001b[0m\u001b[0;34m[\u001b[0m\u001b[0;34m]\u001b[0m\u001b[0;34m,\u001b[0m \u001b[0mdtype\u001b[0m\u001b[0;34m=\u001b[0m\u001b[0mnp\u001b[0m\u001b[0;34m.\u001b[0m\u001b[0mfloat64\u001b[0m\u001b[0;34m)\u001b[0m\u001b[0;34m\u001b[0m\u001b[0;34m\u001b[0m\u001b[0m\n\u001b[1;32m      2\u001b[0m \u001b[0;32mfor\u001b[0m \u001b[0mi\u001b[0m \u001b[0;32min\u001b[0m \u001b[0mrange\u001b[0m\u001b[0;34m(\u001b[0m\u001b[0mn_seismograms\u001b[0m\u001b[0;34m)\u001b[0m\u001b[0;34m:\u001b[0m\u001b[0;34m\u001b[0m\u001b[0;34m\u001b[0m\u001b[0m\n\u001b[0;32m----> 3\u001b[0;31m     \u001b[0mdetect_func_rays\u001b[0m \u001b[0;34m=\u001b[0m \u001b[0mnp\u001b[0m\u001b[0;34m.\u001b[0m\u001b[0mconcatenate\u001b[0m\u001b[0;34m(\u001b[0m\u001b[0;34m(\u001b[0m\u001b[0mdetect_func_rays\u001b[0m\u001b[0;34m,\u001b[0m \u001b[0mnp\u001b[0m\u001b[0;34m.\u001b[0m\u001b[0mload\u001b[0m\u001b[0;34m(\u001b[0m\u001b[0;34m'{}_{}.npy'\u001b[0m\u001b[0;34m.\u001b[0m\u001b[0mformat\u001b[0m\u001b[0;34m(\u001b[0m\u001b[0mdetect_function_prefix_rays\u001b[0m\u001b[0;34m,\u001b[0m \u001b[0mi\u001b[0m\u001b[0;34m)\u001b[0m\u001b[0;34m)\u001b[0m\u001b[0;34m[\u001b[0m\u001b[0;34m:\u001b[0m\u001b[0;34m]\u001b[0m\u001b[0;34m[\u001b[0m\u001b[0;34m'event'\u001b[0m\u001b[0;34m]\u001b[0m\u001b[0;34m)\u001b[0m\u001b[0;34m)\u001b[0m\u001b[0;34m\u001b[0m\u001b[0;34m\u001b[0m\u001b[0m\n\u001b[0m\u001b[1;32m      4\u001b[0m \u001b[0mdetect_func_rays\u001b[0m\u001b[0;34m.\u001b[0m\u001b[0mshape\u001b[0m\u001b[0;34m\u001b[0m\u001b[0;34m\u001b[0m\u001b[0m\n",
      "\u001b[0;32m~/.local/anaconda3/lib/python3.8/site-packages/numpy/lib/npyio.py\u001b[0m in \u001b[0;36mload\u001b[0;34m(file, mmap_mode, allow_pickle, fix_imports, encoding)\u001b[0m\n\u001b[1;32m    426\u001b[0m         \u001b[0mown_fid\u001b[0m \u001b[0;34m=\u001b[0m \u001b[0;32mFalse\u001b[0m\u001b[0;34m\u001b[0m\u001b[0;34m\u001b[0m\u001b[0m\n\u001b[1;32m    427\u001b[0m     \u001b[0;32melse\u001b[0m\u001b[0;34m:\u001b[0m\u001b[0;34m\u001b[0m\u001b[0;34m\u001b[0m\u001b[0m\n\u001b[0;32m--> 428\u001b[0;31m         \u001b[0mfid\u001b[0m \u001b[0;34m=\u001b[0m \u001b[0mopen\u001b[0m\u001b[0;34m(\u001b[0m\u001b[0mos_fspath\u001b[0m\u001b[0;34m(\u001b[0m\u001b[0mfile\u001b[0m\u001b[0;34m)\u001b[0m\u001b[0;34m,\u001b[0m \u001b[0;34m\"rb\"\u001b[0m\u001b[0;34m)\u001b[0m\u001b[0;34m\u001b[0m\u001b[0;34m\u001b[0m\u001b[0m\n\u001b[0m\u001b[1;32m    429\u001b[0m         \u001b[0mown_fid\u001b[0m \u001b[0;34m=\u001b[0m \u001b[0;32mTrue\u001b[0m\u001b[0;34m\u001b[0m\u001b[0;34m\u001b[0m\u001b[0m\n\u001b[1;32m    430\u001b[0m \u001b[0;34m\u001b[0m\u001b[0m\n",
      "\u001b[0;31mFileNotFoundError\u001b[0m: [Errno 2] No such file or directory: '/mnt/nfs/Data/vershinin/microseismic/result/detect_function_rays_0.npy'"
     ]
    }
   ],
   "source": [
    "detect_func_rays = np.array([], dtype=np.float64)\n",
    "for i in range(n_seismograms):\n",
    "    detect_func_rays = np.concatenate((detect_func_rays, np.load('{}_{}.npy'.format(detect_function_prefix_rays, i))))\n",
    "detect_func_rays.shape"
   ]
  },
  {
   "cell_type": "code",
   "execution_count": 17,
   "metadata": {},
   "outputs": [
    {
     "data": {
      "image/png": "[encoded data removed]",
      "text/plain": [
       "<Figure size 720x504 with 1 Axes>"
      ]
     },
     "metadata": {
      "needs_background": "light"
     },
     "output_type": "display_data"
    }
   ],
   "source": [
    "plt.figure(figsize=(10, 7))\n",
    "detect_func_rays_for_show = detect_func_rays\n",
    "detect_func_len = len(detect_func_rays_for_show)\n",
    "times = np.linspace(0.0, detect_func_len*dt, detect_func_len)\n",
    "plt.plot(times, detect_func_rays_for_show)\n",
    "plt.xlabel('Time, s')\n",
    "plt.ylabel('Amplitude')\n",
    "plt.show()"
   ]
  },
  {
   "cell_type": "code",
   "execution_count": null,
   "metadata": {},
   "outputs": [],
   "source": []
  }
 ],
 "metadata": {
  "kernelspec": {
   "display_name": "Python 3",
   "language": "python",
   "name": "python3"
  },
  "language_info": {
   "codemirror_mode": {
    "name": "ipython",
    "version": 3
   },
   "file_extension": ".py",
   "mimetype": "text/x-python",
   "name": "python",
   "nbconvert_exporter": "python",
   "pygments_lexer": "ipython3",
   "version": "3.8.3"
  }
 },
 "nbformat": 4,
 "nbformat_minor": 5
}
